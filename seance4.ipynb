{
 "cells": [
  {
   "cell_type": "markdown",
   "metadata": {},
   "source": [
    "#Seance 4"
   ]
  },
  {
   "cell_type": "markdown",
   "metadata": {},
   "source": [
    "Ex 1: Racine quatrième \n",
    "\n",
    "Pour un nombre réel a positif, il existe un unique réel b positif tel que b^n = a. Ce réel est appelé la racine n-ième de a (ou racine n-ième principale de a).\n",
    "\n",
    "1. Donner la fonction python racine(b,n,e) qui donnée la racine n-eme de b avec une précision de e\n"
   ]
  },
  {
   "cell_type": "code",
   "execution_count": 2,
   "metadata": {},
   "outputs": [
    {
     "name": "stdout",
     "output_type": "stream",
     "text": [
      "2.0000000000000013\n"
     ]
    }
   ],
   "source": [
    "def racine(a, n, e):\n",
    "    x = e\n",
    "    while (x**n < a):\n",
    "        x+= e\n",
    "    print(x)\n",
    "racine(8, 3, 0.01)\n",
    "        \n",
    "        \n",
    "        \n",
    "    "
   ]
  },
  {
   "cell_type": "markdown",
   "metadata": {},
   "source": [
    "Ex 2: Racine d'un polynome\n",
    "On appelle racine d'une polynome P une solution de l'équation (E): P(x)=0. \n",
    "\n",
    "On considère le trinome ax2+bx+c.\n",
    "\n",
    "Faire un algorithme pour trouver si il a des racines, combien, et calculer leur valeur. "
   ]
  },
  {
   "cell_type": "code",
   "execution_count": 6,
   "metadata": {},
   "outputs": [
    {
     "name": "stdout",
     "output_type": "stream",
     "text": [
      "Solutions pour -1x^2+2x+1\n",
      "Deux solutions\n",
      "-3.414213562373095\n",
      "-0.5857864376269049\n"
     ]
    }
   ],
   "source": [
    "from math import sqrt\n",
    "def poly(a, b, c):\n",
    "    print('Solutions pour ' + str(a)+'x^2+' + str(b)+'x+'+str(c))\n",
    "    d = b**2 - 4 * a * c\n",
    "    if (d>0):\n",
    "        print('Deux solutions')\n",
    "        x1= -b + sqrt(d) / 2 * a\n",
    "        x2= -b - sqrt(d) / 2 * a\n",
    "        print(x1)\n",
    "        print(x2)\n",
    "    elif(d == 0):\n",
    "        print('Une solution')\n",
    "        x = -b / 2 * a\n",
    "        print(x)\n",
    "    else:\n",
    "        print('Aucune solution')\n",
    "\n",
    "poly(-1, 2 ,1)"
   ]
  },
  {
   "cell_type": "markdown",
   "metadata": {},
   "source": [
    "#Introduction a Sympy \n",
    " \n",
    "Le module Sympy  permet de faire du calcul symbolique. Par exemple, le nombre √8 est représenté par Python comme un flottant"
   ]
  },
  {
   "cell_type": "code",
   "execution_count": 14,
   "metadata": {},
   "outputs": [
    {
     "data": {
      "text/plain": [
       "2.8284271247461903"
      ]
     },
     "execution_count": 14,
     "metadata": {},
     "output_type": "execute_result"
    }
   ],
   "source": [
    "import math\n",
    "math.sqrt(8)"
   ]
  },
  {
   "cell_type": "markdown",
   "metadata": {},
   "source": [
    "L’avantage de Sympy est que √8 est gardé en tant racine et même automatiquement simplifié"
   ]
  },
  {
   "cell_type": "code",
   "execution_count": 9,
   "metadata": {},
   "outputs": [
    {
     "data": {
      "image/png": "[encoded data removed]",
      "text/latex": [
       "$\\displaystyle 2 \\sqrt{2}$"
      ],
      "text/plain": [
       "2⋅√2"
      ]
     },
     "execution_count": 9,
     "metadata": {},
     "output_type": "execute_result"
    }
   ],
   "source": [
    "from sympy import *\n",
    "\n",
    "init_printing()\n",
    "sqrt(8)"
   ]
  },
  {
   "cell_type": "markdown",
   "metadata": {},
   "source": [
    "Ex3 : Introduction\n",
    "Avant de pourvoir utiliser des variables symboliques, il faut les déclarer comme symboles:"
   ]
  },
  {
   "cell_type": "code",
   "execution_count": 16,
   "metadata": {},
   "outputs": [
    {
     "data": {
      "image/png": "[encoded data removed]",
      "text/latex": [
       "$\\displaystyle \\frac{\\varepsilon}{4} + x^{2} + 4 x + 4 y$"
      ],
      "text/plain": [
       "\\varepsilon    2            \n",
       "─────────── + x  + 4⋅x + 4⋅y\n",
       "     4                      "
      ]
     },
     "execution_count": 16,
     "metadata": {},
     "output_type": "execute_result"
    }
   ],
   "source": [
    "x = Symbol(\"x\")# definit le symbole x\n",
    "y = Symbol(\"y\", real=True)# définit la variable réelle y\n",
    "e = Symbol(r\"\\varepsilon\", real=True, positive=True)# définit epsilon positif\n",
    "\n",
    "x + 2*y + e/4 + x**2 + 3*x + 2*y"
   ]
  },
  {
   "cell_type": "markdown",
   "metadata": {},
   "source": [
    "1. Lire la doc de la fonction solve et l’utiliser pour calculer les racines d’un polynôme général de degré deux, puis de degré trois\n",
    "2. Lire la documentation des fonction sevalf et N pour évaluer l’expression π^2/4\n",
    "3. Déterminer la partie réelle et imaginaire de l’expression : (1+i√3)^20 / 1+i\n",
    "4. Lire la documentation de la fonction diff et calculer la dérivée de xe^x^x^x par rapport à x.\n",
    "5. Calculer avec Sympy les limites suivantes :\n",
    " * L1= lim x→0 sin(x)/x,\n",
    " * L2= lim x→0 sin(1/x),"
   ]
  },
  {
   "cell_type": "code",
   "execution_count": 18,
   "metadata": {},
   "outputs": [
    {
     "data": {
      "image/png": "[encoded data removed]",
      "text/latex": [
       "$\\displaystyle \\left[ - \\frac{1}{15} + \\frac{44}{75 \\left(- \\frac{1}{2} - \\frac{\\sqrt{3} i}{2}\\right) \\sqrt[3]{\\frac{1217}{250} + \\frac{3 \\sqrt{8097}}{50}}} - \\frac{\\left(- \\frac{1}{2} - \\frac{\\sqrt{3} i}{2}\\right) \\sqrt[3]{\\frac{1217}{250} + \\frac{3 \\sqrt{8097}}{50}}}{3}, \\  - \\frac{1}{15} - \\frac{\\left(- \\frac{1}{2} + \\frac{\\sqrt{3} i}{2}\\right) \\sqrt[3]{\\frac{1217}{250} + \\frac{3 \\sqrt{8097}}{50}}}{3} + \\frac{44}{75 \\left(- \\frac{1}{2} + \\frac{\\sqrt{3} i}{2}\\right) \\sqrt[3]{\\frac{1217}{250} + \\frac{3 \\sqrt{8097}}{50}}}, \\  - \\frac{\\sqrt[3]{\\frac{1217}{250} + \\frac{3 \\sqrt{8097}}{50}}}{3} - \\frac{1}{15} + \\frac{44}{75 \\sqrt[3]{\\frac{1217}{250} + \\frac{3 \\sqrt{8097}}{50}}}\\right]$"
      ],
      "text/plain": [
       "⎡                                                               ______________\n",
       "⎢                                              ⎛  1   √3⋅ⅈ⎞    ╱ 1217   3⋅√809\n",
       "⎢                                              ⎜- ─ - ────⎟⋅3 ╱  ──── + ──────\n",
       "⎢  1                     44                    ⎝  2    2  ⎠ ╲╱   250       50 \n",
       "⎢- ── + ──────────────────────────────────── - ───────────────────────────────\n",
       "⎢  15                       ________________                   3              \n",
       "⎢          ⎛  1   √3⋅ⅈ⎞    ╱ 1217   3⋅√8097                                   \n",
       "⎢       75⋅⎜- ─ - ────⎟⋅3 ╱  ──── + ───────                                   \n",
       "⎣          ⎝  2    2  ⎠ ╲╱   250       50                                     \n",
       "\n",
       "__                          ________________                                  \n",
       "7          ⎛  1   √3⋅ⅈ⎞    ╱ 1217   3⋅√8097                                   \n",
       "─          ⎜- ─ + ────⎟⋅3 ╱  ──── + ───────                                   \n",
       "      1    ⎝  2    2  ⎠ ╲╱   250       50                       44            \n",
       "──, - ── - ───────────────────────────────── + ───────────────────────────────\n",
       "      15                   3                                       ___________\n",
       "                                                  ⎛  1   √3⋅ⅈ⎞    ╱ 1217   3⋅√\n",
       "                                               75⋅⎜- ─ + ────⎟⋅3 ╱  ──── + ───\n",
       "                                                  ⎝  2    2  ⎠ ╲╱   250       \n",
       "\n",
       "             ________________                               ⎤\n",
       "            ╱ 1217   3⋅√8097                                ⎥\n",
       "         3 ╱  ──── + ───────                                ⎥\n",
       "         ╲╱   250       50      1               44          ⎥\n",
       "─────, - ──────────────────── - ── + ───────────────────────⎥\n",
       "_____             3             15          ________________⎥\n",
       "8097                                       ╱ 1217   3⋅√8097 ⎥\n",
       "────                                 75⋅3 ╱  ──── + ─────── ⎥\n",
       "50                                      ╲╱   250       50   ⎦"
      ]
     },
     "execution_count": 18,
     "metadata": {},
     "output_type": "execute_result"
    }
   ],
   "source": [
    "solve(2*x**2+1*x+5, x)\n",
    "solve(5*x**3+1*x**2+3*x+2, x)"
   ]
  },
  {
   "cell_type": "code",
   "execution_count": 39,
   "metadata": {},
   "outputs": [
    {
     "data": {
      "image/png": "[encoded data removed]",
      "text/latex": [
       "$\\displaystyle 0.25 \\pi^{2}$"
      ],
      "text/plain": [
       "      2\n",
       "0.25⋅π "
      ]
     },
     "execution_count": 39,
     "metadata": {},
     "output_type": "execute_result"
    }
   ],
   "source": [
    "pi = Symbol(\"pi\")\n",
    "(pi**2/4).evalf()"
   ]
  },
  {
   "cell_type": "code",
   "execution_count": 43,
   "metadata": {},
   "outputs": [
    {
     "data": {
      "image/png": "[encoded data removed]",
      "text/latex": [
       "$\\displaystyle -524288.0 + 908094.453798671 i$"
      ],
      "text/plain": [
       "-524288.0 + 908094.453798671⋅ⅈ"
      ]
     },
     "execution_count": 43,
     "metadata": {},
     "output_type": "execute_result"
    }
   ],
   "source": [
    "N((1 + I *sqrt(3))**20 / 1 + I)"
   ]
  },
  {
   "cell_type": "code",
   "execution_count": 54,
   "metadata": {},
   "outputs": [
    {
     "data": {
      "image/png": "[encoded data removed]",
      "text/latex": [
       "$\\displaystyle x^{x^{x}} \\left(x^{x} \\left(\\log{\\left(x \\right)} + 1\\right) \\log{\\left(x \\right)} + \\frac{x^{x}}{x}\\right) e^{x^{x^{x}}}$"
      ],
      "text/plain": [
       "                                     ⎛ ⎛ x⎞⎞\n",
       " ⎛ x⎞ ⎛                          x⎞  ⎜ ⎝x ⎠⎟\n",
       " ⎝x ⎠ ⎜ x                       x ⎟  ⎝x    ⎠\n",
       "x    ⋅⎜x ⋅(log(x) + 1)⋅log(x) + ──⎟⋅ℯ       \n",
       "      ⎝                         x ⎠         "
      ]
     },
     "execution_count": 54,
     "metadata": {},
     "output_type": "execute_result"
    }
   ],
   "source": [
    "x = Symbol(\"x\")\n",
    "diff(exp(x**x**x),x)"
   ]
  },
  {
   "cell_type": "code",
   "execution_count": 46,
   "metadata": {},
   "outputs": [
    {
     "name": "stdout",
     "output_type": "stream",
     "text": [
      "1\n"
     ]
    },
    {
     "data": {
      "image/png": "[encoded data removed]",
      "text/latex": [
       "$\\displaystyle \\left\\langle -1, 1\\right\\rangle$"
      ],
      "text/plain": [
       "<-1, 1>"
      ]
     },
     "execution_count": 46,
     "metadata": {},
     "output_type": "execute_result"
    }
   ],
   "source": [
    "print(limit(sin(x)/x, x ,0))\n",
    "limit(sin(1/x), x ,0)"
   ]
  },
  {
   "cell_type": "markdown",
   "metadata": {},
   "source": [
    "Ex 4 : Application\n",
    "Le but est d’utiliser Sympy pour résoudre symboliquement différents problèmes mathématiquesen \n",
    "1. Déterminer le nombre de zéro que contient l’entier 123!\n",
    "2. Déterminer le rapport entre la hauteur et le rayon d’un cylindre de manière à minimiser sonaire à volume fixé\n",
    "3. Pour x,y∈R tels que xy <1, démontrer que arctan(x) + arctan(y) = arctan(x+y/1−xy)\n",
    "\n",
    "    "
   ]
  },
  {
   "cell_type": "code",
   "execution_count": 53,
   "metadata": {},
   "outputs": [
    {
     "ename": "NameError",
     "evalue": "name 'fact' is not defined",
     "output_type": "error",
     "traceback": [
      "\u001b[1;31m---------------------------------------------------------------------------\u001b[0m",
      "\u001b[1;31mNameError\u001b[0m                                 Traceback (most recent call last)",
      "\u001b[1;32m<ipython-input-53-3d6b36b48224>\u001b[0m in \u001b[0;36m<module>\u001b[1;34m\u001b[0m\n\u001b[1;32m----> 1\u001b[1;33m \u001b[0mfact\u001b[0m\u001b[1;33m(\u001b[0m\u001b[1;36m123\u001b[0m\u001b[1;33m)\u001b[0m\u001b[1;33m\u001b[0m\u001b[1;33m\u001b[0m\u001b[0m\n\u001b[0m",
      "\u001b[1;31mNameError\u001b[0m: name 'fact' is not defined"
     ]
    }
   ],
   "source": [
    "fact(123)"
   ]
  }
 ],
 "metadata": {
  "kernelspec": {
   "display_name": "Python 3",
   "language": "python",
   "name": "python3"
  },
  "language_info": {
   "codemirror_mode": {
    "name": "ipython",
    "version": 3
   },
   "file_extension": ".py",
   "mimetype": "text/x-python",
   "name": "python",
   "nbconvert_exporter": "python",
   "pygments_lexer": "ipython3",
   "version": "3.7.6"
  }
 },
 "nbformat": 4,
 "nbformat_minor": 4
}
